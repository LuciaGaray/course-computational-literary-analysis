{
 "cells": [
  {
   "cell_type": "markdown",
   "id": "c188e5b1-e2e8-44ae-b363-a2960dc8d7fc",
   "metadata": {},
   "source": [
    "# Lucia Garay\n",
    "\n",
    "Instructions"
   ]
  },
  {
   "cell_type": "markdown",
   "id": "11c76ea5-80b3-4434-a195-1ed54d14a317",
   "metadata": {},
   "source": [
    "1. Watch Lecture 2 and Lecture 3.\n",
    "2. Download this file from the course repository, save it to your computer, and open it in Jupyter Lab.\n",
    "3. Replace \"Yourname\" in the title of this notebook with your first name, and replace \"your name here\" in the heading above, as well.\n",
    "4. Complete all problems, and run the cell containing your solution, to show that it works. In other words, enter code in the cells marked `# Enter code here.`, and press Ctrl+Enter to run that code.\n",
    "5. When you're done, run \"restart and run all\" from the kernel menu, to make sure that your notebook runs sequentially (to avoid any problems with running cells out of order).\n",
    "6. Email me the resulting .ipynb file, to jonathan.reeve@columbia.edu, before our discussion section on Monday."
   ]
  },
  {
   "cell_type": "markdown",
   "id": "b1548ab3-a19b-40a8-9cc9-2e068d7cf32d",
   "metadata": {},
   "source": [
    "Since late work can't be accepted, please start on this early, and turn it in as early as you can"
   ]
  },
  {
   "cell_type": "markdown",
   "id": "ecd75da0-ae0c-4b01-8f80-c1b2f33b7039",
   "metadata": {},
   "source": [
    "## 1. Demonstrate that you've mastered Markdown.\n",
    "\n",
    "In the markdown cell below, copy the following text and make all the appropriate changes to its formatting:"
   ]
  },
  {
   "cell_type": "markdown",
   "id": "5cd64160-d24e-4682-92ca-2a0a309161d0",
   "metadata": {},
   "source": [
    "[This should be a link to the website Duck Duck Go.](https://duckduckgo.com/?va=b&t=hc)"
   ]
  },
  {
   "cell_type": "markdown",
   "id": "52f3bcb2-243b-4ee1-b5ea-16d2aea6dcc1",
   "metadata": {},
   "source": [
    "The name of the novel _The Moonstone_ should be italicized."
   ]
  },
  {
   "cell_type": "markdown",
   "id": "a15b505c-52a6-4853-8bc1-d6f79aa9dae3",
   "metadata": {},
   "source": [
    "The word \"__boldface__\" in this sentence should be emphasized in boldface."
   ]
  },
  {
   "cell_type": "markdown",
   "id": "f6f20818-ee90-4325-ae89-2d047e75ccec",
   "metadata": {},
   "source": [
    "Format the inline code: `Hello world` as Python code"
   ]
  },
  {
   "cell_type": "markdown",
   "id": "f20811c2-7785-481f-9719-01bbeccfa1f9",
   "metadata": {},
   "source": [
    "Format the code block below as Python code"
   ]
  },
  {
   "cell_type": "markdown",
   "id": "6600d481-a8c1-4e64-963b-a8e40f45a69f",
   "metadata": {},
   "source": [
    "```python\n",
    "for word in \"Hello world\".split():\n",
    "    print(word.upper())\n",
    "```"
   ]
  },
  {
   "cell_type": "markdown",
   "id": "3003a653-9cfe-4efd-824b-16545b44c5b9",
   "metadata": {},
   "source": [
    "Format the block below as a prose block quote:"
   ]
  },
  {
   "cell_type": "markdown",
   "id": "6292891d-79c3-4dda-901e-f70524825107",
   "metadata": {},
   "source": [
    "> I am not superstitious. I have read a heap of books in my time. I am a scholar in my own way."
   ]
  },
  {
   "cell_type": "markdown",
   "id": "c545b4f0-02f4-4df2-84bb-2e6d951b2908",
   "metadata": {},
   "source": [
    "Insert an image of a kitten, from [placekitten.com](placekitten.com)"
   ]
  },
  {
   "cell_type": "markdown",
   "id": "5527974b-b9e4-4b23-9735-54c09f33cc4e",
   "metadata": {},
   "source": [
    "![](https://placekitten.com/200/287)"
   ]
  },
  {
   "cell_type": "markdown",
   "id": "1cd6d564-54e3-46b1-b439-61c1ccf35f15",
   "metadata": {},
   "source": [
    "## Answer to #1"
   ]
  },
  {
   "cell_type": "markdown",
   "id": "86b6a418-2ec9-4c17-8779-8b3f21eaabce",
   "metadata": {},
   "source": [
    "Make a second-level header for this cell"
   ]
  },
  {
   "cell_type": "markdown",
   "id": "fea10dfc-3137-4a7b-b959-a478893f4700",
   "metadata": {
    "tags": []
   },
   "source": [
    "## 2. Write a line of Python to split this passage into sentences."
   ]
  },
  {
   "cell_type": "code",
   "execution_count": 1,
   "id": "4c131bf0-0616-4012-8511-66e573f6a859",
   "metadata": {},
   "outputs": [],
   "source": [
    "sentence = \"I am not superstitious. I have read a heap of books in my time. I am a scholar in my own way.\""
   ]
  },
  {
   "cell_type": "code",
   "execution_count": 2,
   "id": "eb2c8926-a6d1-478e-9ee5-1563cefedb2d",
   "metadata": {},
   "outputs": [
    {
     "data": {
      "text/plain": [
       "['I am not superstitious',\n",
       " ' I have read a heap of books in my time',\n",
       " ' I am a scholar in my own way',\n",
       " '']"
      ]
     },
     "execution_count": 2,
     "metadata": {},
     "output_type": "execute_result"
    }
   ],
   "source": [
    "sentence.split('.')"
   ]
  },
  {
   "cell_type": "markdown",
   "id": "e3245b61-2aa3-48fc-9899-db8a1d2bbefa",
   "metadata": {},
   "source": [
    "## 3. Could you use the method from #1 to split a whole novel into sentences? Why or why not?"
   ]
  },
  {
   "cell_type": "markdown",
   "id": "6dc8db1b-2518-43b3-b3f7-57c63f245de5",
   "metadata": {},
   "source": [
    "If by #1 you mean the split markup feature, the answer is yes. Using this feature, all kinds of sentences throughout the novel could be split. It wouldn't matter what kind of punctuation is used as long as there are mulitple lines of code that apply to each kind of sentence."
   ]
  },
  {
   "cell_type": "markdown",
   "id": "8b214efe-7404-418b-8eb4-53866bbad025",
   "metadata": {},
   "source": [
    "## 4. Using the output from question #2, split those three sentences into words."
   ]
  },
  {
   "cell_type": "code",
   "execution_count": 3,
   "id": "1b36d57e-1a16-4c4a-a634-01ac553fe7ce",
   "metadata": {},
   "outputs": [
    {
     "data": {
      "text/plain": [
       "['I',\n",
       " 'am',\n",
       " 'not',\n",
       " 'superstitious.',\n",
       " 'I',\n",
       " 'have',\n",
       " 'read',\n",
       " 'a',\n",
       " 'heap',\n",
       " 'of',\n",
       " 'books',\n",
       " 'in',\n",
       " 'my',\n",
       " 'time.',\n",
       " 'I',\n",
       " 'am',\n",
       " 'a',\n",
       " 'scholar',\n",
       " 'in',\n",
       " 'my',\n",
       " 'own',\n",
       " 'way.']"
      ]
     },
     "execution_count": 3,
     "metadata": {},
     "output_type": "execute_result"
    }
   ],
   "source": [
    "sentence.split(' ')"
   ]
  },
  {
   "cell_type": "markdown",
   "id": "842be90b-cf95-4089-9cda-6cc306c2d08b",
   "metadata": {},
   "source": [
    "## 5. Write some Python to extract the first word from the sentence above."
   ]
  },
  {
   "cell_type": "code",
   "execution_count": 4,
   "id": "765adf99-acb4-47c1-b4a4-d12d061acd49",
   "metadata": {},
   "outputs": [
    {
     "name": "stdout",
     "output_type": "stream",
     "text": [
      "I\n"
     ]
    }
   ],
   "source": [
    "def print_first_word():\n",
    "    words = \"I have read a heap of books in my time.\"\n",
    "    print(words.split().pop(0))\n",
    "print_first_word()"
   ]
  },
  {
   "cell_type": "markdown",
   "id": "f0994609-f3d5-4b20-9be8-edfb66e5255f",
   "metadata": {},
   "source": [
    "## 6. Write some Python to extract the fifth through seventh words from that same sentence."
   ]
  },
  {
   "cell_type": "code",
   "execution_count": 5,
   "id": "d7c2fb9e-c8f2-47e4-b172-20a486a9e24e",
   "metadata": {},
   "outputs": [
    {
     "name": "stdout",
     "output_type": "stream",
     "text": [
      "heap of books\n"
     ]
    }
   ],
   "source": [
    "import re\n",
    "search_string= \"I have read a heap of books in my time.\"\n",
    "print(\"heap\",\"of\", \"books\")"
   ]
  },
  {
   "cell_type": "markdown",
   "id": "2ca4c0a5-4d94-4a2e-b801-d179ab63f517",
   "metadata": {},
   "source": [
    "## 7. Write a little porgram that takes a name as user iput, and checks whether it is in a list of _The Moonstone_ characters."
   ]
  },
  {
   "cell_type": "code",
   "execution_count": null,
   "id": "0ba29b29-9d1e-4129-9c11-d9e1a49a5ea1",
   "metadata": {},
   "outputs": [],
   "source": [
    "answer = input('Whats the name you want to check?')\n",
    "if answer == \"Gabriel\":\n",
    "    print(\"Gabriel is a character in _The Moonstone_.\")\n",
    "if answer == \"Rachel\":\n",
    "    print(\"Rachel is a character in _The Moonstone_.\")\n",
    "if answer == \"Franklin\":\n",
    "    print(\"Franklin is a character in _The Moonstone_.\")\n",
    "if answer == \"Rosanna\":\n",
    "    print(\"Rosanna is a character in _The Moonstone_.\")\n",
    "else:\n",
    "    print(\"This is not a character in _The Moonstone_.\")"
   ]
  },
  {
   "cell_type": "markdown",
   "id": "ea33d080-c800-4759-b927-5bf30b33f2e2",
   "metadata": {},
   "source": [
    "## 8. Does your program work if you enter the lowercased version of a name? (I.e., \"franklin\" instead of \"Franklin\"?) Why is that? And how could you modify your program so that works with lowercased names, too?"
   ]
  },
  {
   "cell_type": "markdown",
   "id": "5f549543-efae-4ab1-b516-7cd35ca64886",
   "metadata": {},
   "source": [
    "It does not work with lower case names, but if I modified my program to include with `lower()` it would mean that the program would understand franklin as well as Franklin as meaning the same thing."
   ]
  },
  {
   "cell_type": "markdown",
   "id": "c829a6dd-b51a-4b28-b2ee-b4a3ce268b3a",
   "metadata": {},
   "source": [
    "## 9. Using the list of characters above, write some Python to print them out in a string like the one below."
   ]
  },
  {
   "cell_type": "markdown",
   "id": "3a85b618-51c2-42af-8589-01702ae2049f",
   "metadata": {},
   "source": [
    "Some characters in _The Moonstone_ are:"
   ]
  },
  {
   "cell_type": "code",
   "execution_count": null,
   "id": "24ff5b87-61be-4ff5-9571-bae1f06ea8e8",
   "metadata": {},
   "outputs": [],
   "source": [
    "# Python program to convert a list\n",
    "# of character\n",
    "\n",
    "def convert (s):\n",
    "\n",
    "\t# initialization of string to \"\"\n",
    "\tnew = \"\"\n",
    "\n",
    "\t# traverse in the string\n",
    "\tfor x in s:\n",
    "\t\tnew += x\n",
    "\n",
    "\t# return string\n",
    "\treturn new\n",
    "\t\n",
    "\t\n",
    "# driver code\n",
    "s = [\"Gabriel \", \"Rachel \", \"Franklin \", \"Rosanna \", \"and Moonstone.\"]\n",
    "print(convert(s))"
   ]
  },
  {
   "cell_type": "markdown",
   "id": "ea3e49fb-bb28-46d3-aae4-d1026c16416e",
   "metadata": {},
   "source": [
    "## 10. Write 1-2 paragraphs about something you notice happening in The Moonstone that you think might be operationalized (i.e. tested using a computational analysis)."
   ]
  },
  {
   "cell_type": "markdown",
   "id": "a031ef84-9cb1-4857-9b28-bd062aac198a",
   "metadata": {},
   "source": [
    "I have noticed that in books like _The Moonstone_ the narrator is sometimes unrelatable and the people who are quoted as having direct quotes can expose a significant bias in the narrative. The people who have direct lines, how often they speak, what they say, and how much they say."
   ]
  },
  {
   "cell_type": "markdown",
   "id": "9451b245-e223-4429-8243-8f11169e13ad",
   "metadata": {},
   "source": [
    "I think that the quotes in _The Moonstone_ could be opperationalized by making a list of the quotes or quote locations of each character. We could locate quotes and see which characters speak the most. This could expose character traits, biases of the narrator, and important plot points"
   ]
  }
 ],
 "metadata": {
  "kernelspec": {
   "display_name": "Python 3 (ipykernel)",
   "language": "python",
   "name": "python3"
  },
  "language_info": {
   "codemirror_mode": {
    "name": "ipython",
    "version": 3
   },
   "file_extension": ".py",
   "mimetype": "text/x-python",
   "name": "python",
   "nbconvert_exporter": "python",
   "pygments_lexer": "ipython3",
   "version": "3.9.12"
  }
 },
 "nbformat": 4,
 "nbformat_minor": 5
}
